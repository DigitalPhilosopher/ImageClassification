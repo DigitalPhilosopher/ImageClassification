{
 "cells": [
  {
   "cell_type": "code",
   "execution_count": null,
   "metadata": {},
   "outputs": [],
   "source": [
    "import cv2\n",
    "import numpy as np\n",
    "from datetime import datetime\n",
    "\n",
    "from sklearn.model_selection import train_test_split\n",
    "\n",
    "from tensorflow.keras.optimizers import Adam\n",
    "from tensorflow.keras import applications\n",
    "from tensorflow.keras.models import Model \n",
    "from tensorflow.keras.layers import Dropout, Flatten, Dense\n",
    "from tensorflow.keras.callbacks import ModelCheckpoint, TensorBoard, EarlyStopping, ReduceLROnPlateau\n",
    "\n",
    "os.chdir(\"..\") # Changing to parent directory "
   ]
  },
  {
   "cell_type": "code",
   "execution_count": null,
   "metadata": {},
   "outputs": [],
   "source": [
    "DATA = \"data/\""
   ]
  },
  {
   "cell_type": "code",
   "execution_count": null,
   "metadata": {},
   "outputs": [],
   "source": [
    "def preprocess_images_of_one_label(image_paths: List, label: int) -> List:\n",
    "    \"\"\"Get images and associated labels.\n",
    "\n",
    "    Args:\n",
    "        image_paths: List of image paths.\n",
    "        label: Label for the images.\n",
    "\n",
    "    Returns:\n",
    "        List: Images and labels.\n",
    "    \"\"\"\n",
    "    arr = []\n",
    "    labels = []\n",
    "\n",
    "    for image_path in image_paths:\n",
    "        img = cv2.imread(str(image_path))\n",
    "        img = cv2.resize(img, (224, 224))\n",
    "        img = applications.vgg16.preprocess_input(img)\n",
    "        arr.append(img)\n",
    "        labels.append(label)\n",
    "\n",
    "    return arr, labels\n"
   ]
  },
  {
   "cell_type": "code",
   "execution_count": null,
   "metadata": {},
   "outputs": [],
   "source": [
    "def preprocess_images(data_directory: str):\n",
    "    \"\"\"Preprocess images.\n",
    "\n",
    "    Args:\n",
    "        data_directory: Directory path.\n",
    "    \n",
    "    Returns:\n",
    "        List: Preprocessed images and labels.\n",
    "    \"\"\"\n",
    "    train = pathlib.Path(os.path.join(data_directory))\n",
    "\n",
    "    '''TODO:\n",
    "    email, Y_email = preprocess_images_of_one_label(list(train.glob(\"email/*.tif\")), 0)\n",
    "    invoice, Y_invoice = preprocess_images_of_one_label(list(train.glob(\"invoice/*.tif\")), 1)\n",
    "    letter, Y_letter = preprocess_images_of_one_label(list(train.glob(\"letter/*.tif\")), 2)\n",
    "    resume, Y_resume = preprocess_images_of_one_label(list(train.glob(\"resume/*.tif\")), 3)\n",
    "\n",
    "    images = email + invoice + letter + resume\n",
    "    labels = Y_email + Y_invoice + Y_letter + Y_resume\n",
    "    '''\n",
    "\n",
    "    images = np.asarray(images)\n",
    "    labels = np.asarray(labels)\n",
    "\n",
    "    #TODO: labels = to_categorical(labels, num_classes=4)\n",
    "\n",
    "    return images, labels"
   ]
  },
  {
   "cell_type": "code",
   "execution_count": null,
   "metadata": {},
   "outputs": [],
   "source": [
    "def plot_accuracy(history: History):\n",
    "    \"\"\"Plot accuracy during training.\n",
    "\n",
    "    Args:\n",
    "        history: Model history.\n",
    "    \"\"\"\n",
    "    plt.plot(history.history[\"accuracy\"])\n",
    "    plt.plot(history.history[\"val_accuracy\"])\n",
    "    plt.title(\"Model accuracy\")\n",
    "    plt.ylabel(\"Accuracy\")\n",
    "    plt.xlabel(\"Epoch\")\n",
    "    plt.legend([\"Train\", \"Validation\"], loc=\"upper left\")\n",
    "    plt.show()\n",
    "\n",
    "def plot_loss(history: History):\n",
    "    \"\"\"Plot loss during training.\n",
    "\n",
    "    Args:\n",
    "        history: Model history.\n",
    "    \"\"\"\n",
    "    plt.plot(history.history[\"loss\"])\n",
    "    plt.plot(history.history[\"val_loss\"])\n",
    "    plt.title(\"Model loss\")\n",
    "    plt.ylabel(\"Loss\")\n",
    "    plt.xlabel(\"Epoch\")\n",
    "    plt.legend([\"Train\", \"Validation\"], loc=\"upper left\")\n",
    "    plt.show()\n"
   ]
  },
  {
   "cell_type": "code",
   "execution_count": null,
   "metadata": {},
   "outputs": [],
   "source": [
    "images, labels = preprocess_images(data_directory=DATA)\n",
    "\n",
    "X_train, X_test, y_train, y_test = train_test_split(images, labels, test_size=0.2, random_state=42, stratify=labels)\n",
    "X_train, X_val, y_train, y_val = train_test_split(X_train, y_train, test_size=0.33, random_state=42, stratify=y_train)"
   ]
  },
  {
   "cell_type": "code",
   "execution_count": null,
   "metadata": {},
   "outputs": [],
   "source": [
    "model = applications.vgg16.VGG16(weights=\"imagenet\", include_top=False, input_shape=(224, 224, 3),)\n",
    "\n",
    "early_stopping = EarlyStopping(monitor=\"val_loss\", patience=2, verbose=1, restore_best_weights=True)\n",
    "reduce_lr = ReduceLROnPlateau(monitor=\"val_loss\", factor=0.2, patience=2, min_lr=0.000001)\n",
    "\n",
    "for layer in model.layers:\n",
    "    layer.trainable = True\n",
    "\n",
    "x = model.output\n",
    "x = Flatten()(x)\n",
    "x = Dense(256, activation=\"relu\")(x)\n",
    "x = Dropout(0.5)(x)\n",
    "x = Dense(128, activation=\"relu\")(x)\n",
    "predictions = Dense(4, activation=\"softmax\")(x)\n",
    "\n",
    "model_final = Model(inputs=model.input, outputs=predictions)\n",
    "\n",
    "model_final.compile(\n",
    "    loss=\"categorical_crossentropy\", \n",
    "    optimizer=Adam(learning_rate=0.0001), \n",
    "    metrics=[\"accuracy\"]\n",
    ")"
   ]
  },
  {
   "cell_type": "code",
   "execution_count": null,
   "metadata": {},
   "outputs": [],
   "source": [
    "history = model_final.fit(\n",
    "    X_train,\n",
    "    y_train,\n",
    "    epochs=5, \n",
    "    batch_size=32,   \n",
    "    validation_data=(X_val, y_val),\n",
    "    callbacks=[reduce_lr, early_stopping]\n",
    ")"
   ]
  },
  {
   "cell_type": "code",
   "execution_count": null,
   "metadata": {},
   "outputs": [],
   "source": [
    "plot_accuracy(history)\n",
    "plot_loss(history)"
   ]
  }
 ],
 "metadata": {
  "language_info": {
   "name": "python"
  }
 },
 "nbformat": 4,
 "nbformat_minor": 2
}
